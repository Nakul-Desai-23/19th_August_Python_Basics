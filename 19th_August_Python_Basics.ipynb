{
 "cells": [
  {
   "cell_type": "markdown",
   "id": "31c75b2c",
   "metadata": {},
   "source": [
    "### TOPIC: Python Basics Variables"
   ]
  },
  {
   "cell_type": "code",
   "execution_count": 4,
   "id": "ef8539d3",
   "metadata": {},
   "outputs": [
    {
     "name": "stdout",
     "output_type": "stream",
     "text": [
      "6\n",
      "5\n"
     ]
    }
   ],
   "source": [
    " '''1. Declare two variables, `x` and `y`, and assign them integer values. Swap the\n",
    "values of these variables without using any temporary variable.'''\n",
    "\n",
    "#Solution:-    \n",
    "x,y = 5,6\n",
    "x,y = y,x  #swapping\n",
    "print(x)\n",
    "print(y)"
   ]
  },
  {
   "cell_type": "code",
   "execution_count": 6,
   "id": "345e4143",
   "metadata": {},
   "outputs": [
    {
     "name": "stdout",
     "output_type": "stream",
     "text": [
      "Enter length of rectangle :5\n",
      "Enter width of rectangle :4\n",
      "The area of rectangle is: 20.0 square meter\n"
     ]
    }
   ],
   "source": [
    "'''2. Create a program that calculates the area of a rectangle. Take the length and\n",
    "width as inputs from the user and store them in variables. Calculate and\n",
    "display the area.'''\n",
    "\n",
    "#Solution:-\n",
    "l = float(input(\"Enter length of rectangle :\"))\n",
    "w = float(input(\"Enter width of rectangle :\"))\n",
    "a = l*w\n",
    "print(f\"The area of rectangle is: {a} square meter\")\n"
   ]
  },
  {
   "cell_type": "code",
   "execution_count": 10,
   "id": "28caabe4",
   "metadata": {},
   "outputs": [
    {
     "name": "stdout",
     "output_type": "stream",
     "text": [
      "Enter temperature in degree Celsius :23.5\n",
      "The temperature is 74.3 degree Fahrenheit\n"
     ]
    }
   ],
   "source": [
    "'''3. Write a Python program that converts temperatures from Celsius to\n",
    "Fahrenheit. Take the temperature in Celsius as input, store it in a variable,\n",
    "convert it to Fahrenheit, and display the result.'''\n",
    "\n",
    "#Solution:-\n",
    "c = float(input(\"Enter temperature in degree Celsius :\"))\n",
    "f = 9*c/5 + 32\n",
    "print(f\"The temperature is {f} degree Fahrenheit\")\n",
    "\n"
   ]
  },
  {
   "cell_type": "markdown",
   "id": "bb4113fb",
   "metadata": {},
   "source": [
    "### TOPIC: String Based Questions"
   ]
  },
  {
   "cell_type": "code",
   "execution_count": 12,
   "id": "7e6e65d2",
   "metadata": {},
   "outputs": [
    {
     "name": "stdout",
     "output_type": "stream",
     "text": [
      "This is a Python Program to calculate the length of a string\n",
      "The length of the string is 60 \n"
     ]
    }
   ],
   "source": [
    "'''1. Write a Python program that takes a string as input and prints the length of\n",
    "the string.'''\n",
    "\n",
    "#Solution:-\n",
    "s = input()\n",
    "l = len(s)\n",
    "print(f\"The length of the string is {l} \")"
   ]
  },
  {
   "cell_type": "code",
   "execution_count": 21,
   "id": "6b059106",
   "metadata": {},
   "outputs": [
    {
     "name": "stdout",
     "output_type": "stream",
     "text": [
      "Enter the string :aeiou\n",
      "The total number of vowels in the sentence are :5\n"
     ]
    }
   ],
   "source": [
    "'''2. Create a program that takes a sentence from the user and counts the number\n",
    "of vowels (a, e, i, o, u) in the string.'''\n",
    "\n",
    "#Solution:-\n",
    "s = input(\"Enter the string :\").lower()\n",
    "c = 0        #counter to store the number of vowels\n",
    "for item in s:\n",
    "    if item == \"a\" or item == \"e\" or item == \"i\" or item == \"o\" or item == \"u\":\n",
    "        c+=1\n",
    "        \n",
    "print(f\"The total number of vowels in the sentence are :{c}\")\n",
    "    \n"
   ]
  },
  {
   "cell_type": "code",
   "execution_count": 25,
   "id": "2bc4febf",
   "metadata": {},
   "outputs": [
    {
     "name": "stdout",
     "output_type": "stream",
     "text": [
      "Enter the string :Nakul\n",
      "The reversed string is : lukaN\n"
     ]
    }
   ],
   "source": [
    "'''3. Given a string, reverse the order of characters using string slicing and print\n",
    "the reversed string.'''\n",
    "\n",
    "#Solution:-\n",
    "s = input(\"Enter the string :\")\n",
    "s1 = s[len(s)::-1]\n",
    "print(f\"The reversed string is : {s1}\")\n"
   ]
  },
  {
   "cell_type": "code",
   "execution_count": 38,
   "id": "fd17fae5",
   "metadata": {},
   "outputs": [
    {
     "name": "stdout",
     "output_type": "stream",
     "text": [
      "Enter the string to be checked :telugu\n",
      "Not a palindrome\n"
     ]
    }
   ],
   "source": [
    "'''4. Write a program that takes a string as input and checks if it is a palindrome\n",
    "(reads the same forwards and backwards).'''\n",
    "\n",
    "#Solution:-\n",
    "\n",
    "s = input(\"Enter the string to be checked :\").lower()\n",
    "if s[0::] == s[-1::-1]:    #Comparing the string with the reverse string\n",
    "    print(\"It's a Palindrome\")\n",
    "else:\n",
    "    print(\"It's not a palindrome\")\n"
   ]
  },
  {
   "cell_type": "code",
   "execution_count": 34,
   "id": "c98cabb9",
   "metadata": {},
   "outputs": [
    {
     "name": "stdout",
     "output_type": "stream",
     "text": [
      "Enter the string here :Hello world I am Nakul\n"
     ]
    },
    {
     "data": {
      "text/plain": [
       "'HelloworldIamNakul'"
      ]
     },
     "execution_count": 34,
     "metadata": {},
     "output_type": "execute_result"
    }
   ],
   "source": [
    "'''5. Create a program that takes a string as input and removes all the spaces from\n",
    "it. Print the modified string without spaces.'''\n",
    "\n",
    "#Solution:-\n",
    "s = input(\"Enter the string here :\")\n",
    "s.replace(\" \",\"\")\n",
    "\n",
    "\n"
   ]
  },
  {
   "cell_type": "code",
   "execution_count": null,
   "id": "3465c8c8",
   "metadata": {},
   "outputs": [],
   "source": []
  }
 ],
 "metadata": {
  "kernelspec": {
   "display_name": "Python 3 (ipykernel)",
   "language": "python",
   "name": "python3"
  },
  "language_info": {
   "codemirror_mode": {
    "name": "ipython",
    "version": 3
   },
   "file_extension": ".py",
   "mimetype": "text/x-python",
   "name": "python",
   "nbconvert_exporter": "python",
   "pygments_lexer": "ipython3",
   "version": "3.11.3"
  }
 },
 "nbformat": 4,
 "nbformat_minor": 5
}
